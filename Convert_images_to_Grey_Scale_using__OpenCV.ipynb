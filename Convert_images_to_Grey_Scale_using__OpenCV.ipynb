{
  "nbformat": 4,
  "nbformat_minor": 0,
  "metadata": {
    "colab": {
      "provenance": [],
      "authorship_tag": "ABX9TyOsM6w77L6O08z0DKKdw+oD",
      "include_colab_link": true
    },
    "kernelspec": {
      "name": "python3",
      "display_name": "Python 3"
    },
    "language_info": {
      "name": "python"
    }
  },
  "cells": [
    {
      "cell_type": "markdown",
      "metadata": {
        "id": "view-in-github",
        "colab_type": "text"
      },
      "source": [
        "<a href=\"https://colab.research.google.com/github/gurpinder7473/Images_to_Grey_Scale_using-_OpenCV/blob/main/Convert_images_to_Grey_Scale_using__OpenCV.ipynb\" target=\"_parent\"><img src=\"https://colab.research.google.com/assets/colab-badge.svg\" alt=\"Open In Colab\"/></a>"
      ]
    },
    {
      "cell_type": "code",
      "execution_count": null,
      "metadata": {
        "id": "EcjbkVFyCHb5"
      },
      "outputs": [],
      "source": [
        "#  Import required libraries\n",
        "import cv2                   # OpenCV for image processing\n",
        "import os                    # For file and directory operations\n",
        "from pathlib import Path     # For handling paths in a clean way\n",
        "\n",
        "# Function to convert all images in a folder to grayscale\n",
        "def convert_images_to_grayscale(input_folder, output_folder):\n",
        "    \"\"\"\n",
        "    Converts all images in the input_folder to grayscale and saves them to output_folder.\n",
        "    \"\"\"\n",
        "    input_path = Path(input_folder)\n",
        "    output_path = Path(output_folder)\n",
        "    output_path.mkdir(parents=True, exist_ok=True)  # Create output folder if it doesn't exist\n",
        "\n",
        "    image_files = [f for f in input_path.iterdir() if f.suffix.lower() in ['.jpg', '.jpeg', '.png', '.bmp']]\n",
        "\n",
        "    if not image_files:\n",
        "        print(\" No image files found in the input folder.\")\n",
        "        return\n",
        "\n",
        "    print(f\"Converting {len(image_files)} image(s)...\")\n",
        "\n",
        "    for idx, image_file in enumerate(image_files, start=1):\n",
        "        # Read the image\n",
        "        img = cv2.imread(str(image_file))\n",
        "        if img is None:\n",
        "            print(f\"Failed to load: {image_file.name}\")\n",
        "            continue\n",
        "\n",
        "        # Convert to grayscale\n",
        "        gray_img = cv2.cvtColor(img, cv2.COLOR_BGR2GRAY)\n",
        "\n",
        "        # Build the output file path\n",
        "        output_file = output_path / image_file.name\n",
        "\n",
        "        # Save the grayscale image\n",
        "        cv2.imwrite(str(output_file), gray_img)\n",
        "        print(f\"{idx}. Saved: {output_file.name}\")\n",
        "\n",
        "    print(\"All images converted successfully!\")\n",
        "\n",
        "# Main execution\n",
        "if __name__ == \"__main__\":\n",
        "    print(\"Grayscale Image Converter\")\n",
        "\n",
        "    #Ask user for input and output directory paths\n",
        "    input_dir = input(\"Enter the folder path containing images to convert: \").strip()\n",
        "    output_dir = input(\"Enter the folder path to save grayscale images: \").strip()\n",
        "\n",
        "    convert_images_to_grayscale(input_dir, output_dir)"
      ]
    }
  ]
}